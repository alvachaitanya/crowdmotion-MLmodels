{
  "nbformat": 4,
  "nbformat_minor": 0,
  "metadata": {
    "colab": {
      "name": "MLmodels.ipynb",
      "provenance": [],
      "mount_file_id": "1929XMuITdif7HSGAzG-vYlmfzymy84hz",
      "authorship_tag": "ABX9TyN7TOSgzMejonpwQdQCQUan",
      "include_colab_link": true
    },
    "kernelspec": {
      "name": "python3",
      "display_name": "Python 3"
    }
  },
  "cells": [
    {
      "cell_type": "markdown",
      "metadata": {
        "id": "view-in-github",
        "colab_type": "text"
      },
      "source": [
        "<a href=\"https://colab.research.google.com/github/alvachaitanya/crowdmotion-MLmodels/blob/master/MLmodels.ipynb\" target=\"_parent\"><img src=\"https://colab.research.google.com/assets/colab-badge.svg\" alt=\"Open In Colab\"/></a>"
      ]
    },
    {
      "cell_type": "code",
      "metadata": {
        "id": "kpi3_dTSqKFK",
        "colab_type": "code",
        "colab": {
          "base_uri": "https://localhost:8080/",
          "height": 37
        },
        "outputId": "ccf86f29-c2b9-4b69-94af-565070f3d771"
      },
      "source": [
        "pwd"
      ],
      "execution_count": null,
      "outputs": [
        {
          "output_type": "execute_result",
          "data": {
            "application/vnd.google.colaboratory.intrinsic+json": {
              "type": "string"
            },
            "text/plain": [
              "'/content'"
            ]
          },
          "metadata": {
            "tags": []
          },
          "execution_count": 1
        }
      ]
    },
    {
      "cell_type": "code",
      "metadata": {
        "id": "U4C1Sr3dqc0R",
        "colab_type": "code",
        "colab": {
          "base_uri": "https://localhost:8080/",
          "height": 32
        },
        "outputId": "2825e1e1-d669-43cf-ea90-52fbf0a48482"
      },
      "source": [
        "cd drive/My\\ Drive"
      ],
      "execution_count": null,
      "outputs": [
        {
          "output_type": "stream",
          "text": [
            "/content/drive/My Drive\n"
          ],
          "name": "stdout"
        }
      ]
    },
    {
      "cell_type": "code",
      "metadata": {
        "id": "hRDx0MS_qlAa",
        "colab_type": "code",
        "colab": {
          "base_uri": "https://localhost:8080/",
          "height": 49
        },
        "outputId": "1e08fab3-8b54-4426-f532-98c5515afee6"
      },
      "source": [
        "import pandas as pd\n",
        "import numpy as np\n",
        "import matplotlib.pyplot as plt\n",
        "import seaborn as sns\n",
        "import os\n",
        "sns.set()"
      ],
      "execution_count": null,
      "outputs": [
        {
          "output_type": "stream",
          "text": [
            "/usr/local/lib/python3.6/dist-packages/statsmodels/tools/_testing.py:19: FutureWarning: pandas.util.testing is deprecated. Use the functions in the public API at pandas.testing instead.\n",
            "  import pandas.util.testing as tm\n"
          ],
          "name": "stderr"
        }
      ]
    },
    {
      "cell_type": "code",
      "metadata": {
        "id": "CKY6YaqkuP-q",
        "colab_type": "code",
        "colab": {}
      },
      "source": [
        "# machine learning\n",
        "from sklearn.linear_model import LogisticRegression\n",
        "from sklearn.svm import SVC, LinearSVC\n",
        "from sklearn.ensemble import RandomForestClassifier\n",
        "from sklearn.neighbors import KNeighborsClassifier\n",
        "from sklearn.naive_bayes import GaussianNB\n",
        "from sklearn.linear_model import Perceptron\n",
        "from sklearn.linear_model import SGDClassifier\n",
        "from sklearn.tree import DecisionTreeClassifier\n",
        "from sklearn.model_selection import train_test_split\n",
        "from sklearn import metrics\n",
        "from sklearn.metrics import precision_recall_fscore_support"
      ],
      "execution_count": null,
      "outputs": []
    },
    {
      "cell_type": "code",
      "metadata": {
        "id": "L0WQ7ztDq6Kn",
        "colab_type": "code",
        "colab": {
          "base_uri": "https://localhost:8080/",
          "height": 247
        },
        "outputId": "55332f4b-5e2f-42bc-ebd2-07c3af24d532"
      },
      "source": [
        "li = []\n",
        "for f in os.listdir('MII/csv'):\n",
        "  path = os.path.join('MII','csv',f)\n",
        "  df = pd.read_csv(path)\n",
        "  li.append(df)\n",
        "df = pd.concat(li, axis=0, ignore_index=True)\n",
        "print(df)"
      ],
      "execution_count": null,
      "outputs": [
        {
          "output_type": "stream",
          "text": [
            "      0  1  2  3  4  5  6  7  8  ...  120  121  122  123  124  125  126  127  128\n",
            "0     0  0  0  0  0  0  0  0  0  ...    0    0    0    0    0    0    0    0  1.0\n",
            "1     0  0  0  0  0  0  0  0  0  ...    0    0    0    0    0    0    0    0  1.0\n",
            "2     0  0  0  0  0  0  0  0  0  ...    0    0    0    0    0    0    0    0  1.0\n",
            "3     0  0  0  0  0  0  0  0  0  ...    0    0    0    0    0    0    0    0  1.0\n",
            "4     0  0  0  0  0  0  0  0  0  ...    0    0    0    0    0    0    0    0  1.0\n",
            "...  .. .. .. .. .. .. .. .. ..  ...  ...  ...  ...  ...  ...  ...  ...  ...  ...\n",
            "2834  0  0  0  0  0  0  0  0  5  ...    9   10    0    0    0    0    0    0  4.0\n",
            "2835  0  0  0  0  0  0  0  0  0  ...    9   10    0    0    0    0    0    0  4.0\n",
            "2836  0  0  0  0  0  0  0  0  5  ...    9   10    0    0    0    0    0    0  4.0\n",
            "2837  0  0  0  0  0  0  0  0  5  ...    9    0    0    0    0    0    0    0  4.0\n",
            "2838  0  0  0  0  0  0  0  0  0  ...    9    0    0    0    0    0    0    0  4.0\n",
            "\n",
            "[2839 rows x 129 columns]\n"
          ],
          "name": "stdout"
        }
      ]
    },
    {
      "cell_type": "code",
      "metadata": {
        "id": "VV_Qs9C2rXOr",
        "colab_type": "code",
        "colab": {
          "base_uri": "https://localhost:8080/",
          "height": 214
        },
        "outputId": "128dae7d-4057-48a3-8bcc-72edf386d8f7"
      },
      "source": [
        "df = df.fillna(4)\n",
        "df.isnull().sum()"
      ],
      "execution_count": null,
      "outputs": [
        {
          "output_type": "execute_result",
          "data": {
            "text/plain": [
              "0      0\n",
              "1      0\n",
              "2      0\n",
              "3      0\n",
              "4      0\n",
              "      ..\n",
              "124    0\n",
              "125    0\n",
              "126    0\n",
              "127    0\n",
              "128    0\n",
              "Length: 129, dtype: int64"
            ]
          },
          "metadata": {
            "tags": []
          },
          "execution_count": 7
        }
      ]
    },
    {
      "cell_type": "code",
      "metadata": {
        "id": "DiK2ckpHs3ZC",
        "colab_type": "code",
        "colab": {
          "base_uri": "https://localhost:8080/",
          "height": 221
        },
        "outputId": "70829de1-2edd-4164-dbc8-a538fa4eb556"
      },
      "source": [
        "print(df.dtypes)"
      ],
      "execution_count": null,
      "outputs": [
        {
          "output_type": "stream",
          "text": [
            "0        int64\n",
            "1        int64\n",
            "2        int64\n",
            "3        int64\n",
            "4        int64\n",
            "        ...   \n",
            "124      int64\n",
            "125      int64\n",
            "126      int64\n",
            "127      int64\n",
            "128    float64\n",
            "Length: 129, dtype: object\n"
          ],
          "name": "stdout"
        }
      ]
    },
    {
      "cell_type": "code",
      "metadata": {
        "id": "4B6yzcBBuyD2",
        "colab_type": "code",
        "colab": {
          "base_uri": "https://localhost:8080/",
          "height": 230
        },
        "outputId": "9fc1b042-2593-4e17-bac4-a342ee330670"
      },
      "source": [
        "cols = df.columns\n",
        "dic = {}\n",
        "for col in cols:\n",
        "  dic[col] = str\n",
        "\n",
        "df = df.astype(dic)\n",
        "print(df.dtypes)\n",
        "print(df.shape)"
      ],
      "execution_count": null,
      "outputs": [
        {
          "output_type": "stream",
          "text": [
            "0      object\n",
            "1      object\n",
            "2      object\n",
            "3      object\n",
            "4      object\n",
            "        ...  \n",
            "124    object\n",
            "125    object\n",
            "126    object\n",
            "127    object\n",
            "128    object\n",
            "Length: 129, dtype: object\n",
            "(2839, 129)\n"
          ],
          "name": "stdout"
        }
      ]
    },
    {
      "cell_type": "code",
      "metadata": {
        "id": "Zmimq9Ysvrel",
        "colab_type": "code",
        "colab": {}
      },
      "source": [
        "targetName=\"128\"\n",
        "cols = df.columns\n",
        "inputCols= cols.delete(targetName)\n",
        "X = df[inputCols].values\n",
        "y = df[targetName].values.ravel()\n",
        "X_train, X_test, Y_train, Y_test = train_test_split(X, y, test_size=0.30, random_state=42)"
      ],
      "execution_count": null,
      "outputs": []
    },
    {
      "cell_type": "code",
      "metadata": {
        "id": "x2yEALqXxasL",
        "colab_type": "code",
        "colab": {
          "base_uri": "https://localhost:8080/",
          "height": 49
        },
        "outputId": "fc142d13-bf59-4ab4-a1f8-39e387f38dfe"
      },
      "source": [
        "# Logistic Regression\n",
        "\n",
        "logreg = LogisticRegression(max_iter=4000, solver='lbfgs')\n",
        "logreg.fit(X_train, Y_train)\n",
        "Y_pred = logreg.predict(X_test)\n",
        "acc_log = round(logreg.score(X_train, Y_train) * 100, 2)\n",
        "print(f\"Logistic Regression Training accuracy : {acc_log}\")\n",
        "print(f\"Logistic Regression Test accuracy: {round(metrics.accuracy_score(Y_test, Y_pred)*100,2)} %\")"
      ],
      "execution_count": null,
      "outputs": [
        {
          "output_type": "stream",
          "text": [
            "Logistic Regression Training accuracy : 85.71\n",
            "Logistic Regression Test accuracy: 73.83 %\n"
          ],
          "name": "stdout"
        }
      ]
    },
    {
      "cell_type": "code",
      "metadata": {
        "id": "62Mx9cch9ve2",
        "colab_type": "code",
        "colab": {
          "base_uri": "https://localhost:8080/",
          "height": 82
        },
        "outputId": "c2307184-2618-494b-f30a-a67396676884"
      },
      "source": [
        "x = precision_recall_fscore_support(Y_test, Y_pred)\n",
        "for i in x:\n",
        "  print((i[0]+i[1]+i[2]+i[3])/4)"
      ],
      "execution_count": null,
      "outputs": [
        {
          "output_type": "stream",
          "text": [
            "0.7199238672909395\n",
            "0.7217296297289326\n",
            "0.7194746158842449\n",
            "213.0\n"
          ],
          "name": "stdout"
        }
      ]
    },
    {
      "cell_type": "code",
      "metadata": {
        "id": "Zv2MEINrzjnL",
        "colab_type": "code",
        "colab": {
          "base_uri": "https://localhost:8080/",
          "height": 49
        },
        "outputId": "47c9007c-0be6-4ac5-cbcb-bad86a88daad"
      },
      "source": [
        "# Support Vector Machines\n",
        "\n",
        "svc = SVC()\n",
        "svc.fit(X_train, Y_train)\n",
        "Y_pred = svc.predict(X_test)\n",
        "acc_svc = round(svc.score(X_train, Y_train) * 100, 2)\n",
        "print(f\"SVM Training accuracy : {acc_svc}\")\n",
        "print(f\"SVM Test accuracy: {round(metrics.accuracy_score(Y_test, Y_pred)*100,2)} %\")"
      ],
      "execution_count": null,
      "outputs": [
        {
          "output_type": "stream",
          "text": [
            "SVM Training accuracy : 95.57\n",
            "SVM Test accuracy: 88.62 %\n"
          ],
          "name": "stdout"
        }
      ]
    },
    {
      "cell_type": "code",
      "metadata": {
        "id": "RDHOTQ7W_hxh",
        "colab_type": "code",
        "colab": {
          "base_uri": "https://localhost:8080/",
          "height": 82
        },
        "outputId": "3bac6db4-6aa3-451e-c908-945a18cacb12"
      },
      "source": [
        "x = precision_recall_fscore_support(Y_test, Y_pred)\n",
        "for i in x:\n",
        "  print((i[0]+i[1]+i[2]+i[3])/4)"
      ],
      "execution_count": null,
      "outputs": [
        {
          "output_type": "stream",
          "text": [
            "0.8857201937588051\n",
            "0.8592875683701102\n",
            "0.8713651481403984\n",
            "213.0\n"
          ],
          "name": "stdout"
        }
      ]
    },
    {
      "cell_type": "code",
      "metadata": {
        "id": "niJRCP2V0lUD",
        "colab_type": "code",
        "colab": {
          "base_uri": "https://localhost:8080/",
          "height": 49
        },
        "outputId": "460d97db-d039-45a0-ea1e-dbc6603c8930"
      },
      "source": [
        "# K nearest neighbours\n",
        "\n",
        "knn = KNeighborsClassifier(n_neighbors = 3)\n",
        "knn.fit(X_train, Y_train)\n",
        "Y_pred = knn.predict(X_test)\n",
        "acc_knn = round(knn.score(X_train, Y_train) * 100, 2)\n",
        "print(f\"Knn Training accuracy : {acc_knn}\")\n",
        "print(f\"Knn Test accuracy: {round(metrics.accuracy_score(Y_test, Y_pred)*100,2)} %\")"
      ],
      "execution_count": null,
      "outputs": [
        {
          "output_type": "stream",
          "text": [
            "Knn Training accuracy : 95.52\n",
            "Knn Test accuracy: 90.02 %\n"
          ],
          "name": "stdout"
        }
      ]
    },
    {
      "cell_type": "code",
      "metadata": {
        "id": "RdvVirLC_k93",
        "colab_type": "code",
        "colab": {
          "base_uri": "https://localhost:8080/",
          "height": 82
        },
        "outputId": "cbf488c9-1cdd-4f17-bd55-03c74a8bac4f"
      },
      "source": [
        "x = precision_recall_fscore_support(Y_test, Y_pred)\n",
        "for i in x:\n",
        "  print((i[0]+i[1]+i[2]+i[3])/4)"
      ],
      "execution_count": null,
      "outputs": [
        {
          "output_type": "stream",
          "text": [
            "0.8901296265217424\n",
            "0.897440854827466\n",
            "0.8934290188596081\n",
            "213.0\n"
          ],
          "name": "stdout"
        }
      ]
    },
    {
      "cell_type": "code",
      "metadata": {
        "id": "hHNnNWr806bh",
        "colab_type": "code",
        "colab": {
          "base_uri": "https://localhost:8080/",
          "height": 49
        },
        "outputId": "5ebbf436-fb1b-4b85-c2f4-fe317be50871"
      },
      "source": [
        "# Gaussian Naive Bayes\n",
        "\n",
        "gaussian = GaussianNB()\n",
        "gaussian.fit(X_train, Y_train)\n",
        "Y_pred = gaussian.predict(X_test)\n",
        "acc_gaussian = round(gaussian.score(X_train, Y_train) * 100, 2)\n",
        "print(f\"Gaussian Naive Bayes Training accuracy : {acc_gaussian}\")\n",
        "print(f\"Gaussian Naive Bayes Test accuracy: {round(metrics.accuracy_score(Y_test, Y_pred)*100,2)} %\")"
      ],
      "execution_count": null,
      "outputs": [
        {
          "output_type": "stream",
          "text": [
            "Gaussian Naive Bayes Training accuracy : 63.92\n",
            "Gaussian Naive Bayes Test accuracy: 62.44 %\n"
          ],
          "name": "stdout"
        }
      ]
    },
    {
      "cell_type": "code",
      "metadata": {
        "id": "Lbd4xg0R_s0N",
        "colab_type": "code",
        "colab": {
          "base_uri": "https://localhost:8080/",
          "height": 82
        },
        "outputId": "67c51a44-ec2b-446b-e27d-f9b12a7a0719"
      },
      "source": [
        "x = precision_recall_fscore_support(Y_test, Y_pred)\n",
        "for i in x:\n",
        "  print((i[0]+i[1]+i[2]+i[3])/4)"
      ],
      "execution_count": null,
      "outputs": [
        {
          "output_type": "stream",
          "text": [
            "0.5953635243335667\n",
            "0.6503916618628844\n",
            "0.5915272681401713\n",
            "213.0\n"
          ],
          "name": "stdout"
        }
      ]
    },
    {
      "cell_type": "code",
      "metadata": {
        "id": "rFkSs2h41N3F",
        "colab_type": "code",
        "colab": {
          "base_uri": "https://localhost:8080/",
          "height": 49
        },
        "outputId": "b8ad9a9e-7f12-4555-a1be-f2dd68782406"
      },
      "source": [
        "# Perceptron\n",
        "\n",
        "perceptron = Perceptron()\n",
        "perceptron.fit(X_train, Y_train)\n",
        "Y_pred = perceptron.predict(X_test)\n",
        "acc_perceptron = round(perceptron.score(X_train, Y_train) * 100, 2)\n",
        "print(f\"Perceptron Training accuracy : {acc_perceptron}\")\n",
        "print(f\"Perceptron Test accuracy: {round(metrics.accuracy_score(Y_test, Y_pred)*100,2)} %\")"
      ],
      "execution_count": null,
      "outputs": [
        {
          "output_type": "stream",
          "text": [
            "Perceptron Training accuracy : 76.6\n",
            "Perceptron Test accuracy: 70.19 %\n"
          ],
          "name": "stdout"
        }
      ]
    },
    {
      "cell_type": "code",
      "metadata": {
        "id": "_5PuJ0IF_u-E",
        "colab_type": "code",
        "colab": {
          "base_uri": "https://localhost:8080/",
          "height": 82
        },
        "outputId": "c641d8b9-0846-4597-8583-1a1087483b6c"
      },
      "source": [
        "x = precision_recall_fscore_support(Y_test, Y_pred)\n",
        "for i in x:\n",
        "  print((i[0]+i[1]+i[2]+i[3])/4)"
      ],
      "execution_count": null,
      "outputs": [
        {
          "output_type": "stream",
          "text": [
            "0.6837574153356971\n",
            "0.6735729415234469\n",
            "0.6777637621978303\n",
            "213.0\n"
          ],
          "name": "stdout"
        }
      ]
    },
    {
      "cell_type": "code",
      "metadata": {
        "id": "b2eREz_21s8T",
        "colab_type": "code",
        "colab": {
          "base_uri": "https://localhost:8080/",
          "height": 49
        },
        "outputId": "9b01b841-4959-4a94-e7cc-dd61d94e4509"
      },
      "source": [
        "# Stochastic Gradient Descent\n",
        "\n",
        "sgd = SGDClassifier()\n",
        "sgd.fit(X_train, Y_train)\n",
        "Y_pred = sgd.predict(X_test)\n",
        "acc_sgd = round(sgd.score(X_train, Y_train) * 100, 2)\n",
        "print(f\"Stochastic Gradient Descent Training accuracy : {acc_sgd}\")\n",
        "print(f\"Stochastic Gradient Descent Test accuracy: {round(metrics.accuracy_score(Y_test, Y_pred)*100,2)} %\")"
      ],
      "execution_count": null,
      "outputs": [
        {
          "output_type": "stream",
          "text": [
            "Stochastic Gradient Descent Training accuracy : 80.98\n",
            "Stochastic Gradient Descent Test accuracy: 70.54 %\n"
          ],
          "name": "stdout"
        }
      ]
    },
    {
      "cell_type": "code",
      "metadata": {
        "id": "fZlw6CPV_x2t",
        "colab_type": "code",
        "colab": {
          "base_uri": "https://localhost:8080/",
          "height": 82
        },
        "outputId": "71e7f330-f354-40f1-8fcd-34cb09f780bd"
      },
      "source": [
        "x = precision_recall_fscore_support(Y_test, Y_pred)\n",
        "for i in x:\n",
        "  print((i[0]+i[1]+i[2]+i[3])/4)"
      ],
      "execution_count": null,
      "outputs": [
        {
          "output_type": "stream",
          "text": [
            "0.7057973993300245\n",
            "0.6819494949325683\n",
            "0.6859642140402207\n",
            "213.0\n"
          ],
          "name": "stdout"
        }
      ]
    },
    {
      "cell_type": "code",
      "metadata": {
        "id": "YpkLQ2WG2iFw",
        "colab_type": "code",
        "colab": {
          "base_uri": "https://localhost:8080/",
          "height": 49
        },
        "outputId": "733a2df9-bd49-4292-9a57-d1a716952f04"
      },
      "source": [
        "# Decision Tree\n",
        "\n",
        "decision_tree = DecisionTreeClassifier()\n",
        "decision_tree.fit(X_train, Y_train)\n",
        "Y_pred = decision_tree.predict(X_test)\n",
        "acc_decision_tree = round(decision_tree.score(X_train, Y_train) * 100, 2)\n",
        "print(f\"Decision Tree Training accuracy : {acc_decision_tree}\")\n",
        "print(f\"Decision Tree Test accuracy: {round(metrics.accuracy_score(Y_test, Y_pred)*100,2)} %\")"
      ],
      "execution_count": null,
      "outputs": [
        {
          "output_type": "stream",
          "text": [
            "Decision Tree Training accuracy : 99.95\n",
            "Decision Tree Test accuracy: 82.16 %\n"
          ],
          "name": "stdout"
        }
      ]
    },
    {
      "cell_type": "code",
      "metadata": {
        "id": "Hm0mgb5U_9qG",
        "colab_type": "code",
        "colab": {
          "base_uri": "https://localhost:8080/",
          "height": 82
        },
        "outputId": "83f3d10f-e69a-4665-ad61-95eeb22fcfa4"
      },
      "source": [
        "x = precision_recall_fscore_support(Y_test, Y_pred)\n",
        "for i in x:\n",
        "  print((i[0]+i[1]+i[2]+i[3])/4)"
      ],
      "execution_count": null,
      "outputs": [
        {
          "output_type": "stream",
          "text": [
            "0.799469756811354\n",
            "0.8154001578545191\n",
            "0.8069370661790789\n",
            "213.0\n"
          ],
          "name": "stdout"
        }
      ]
    },
    {
      "cell_type": "code",
      "metadata": {
        "id": "V3-wpbR02kkb",
        "colab_type": "code",
        "colab": {
          "base_uri": "https://localhost:8080/",
          "height": 49
        },
        "outputId": "aaf54593-2c07-4399-c414-54b31fdc66ca"
      },
      "source": [
        "# Random Forest\n",
        "\n",
        "random_forest = RandomForestClassifier(n_estimators=100)\n",
        "random_forest.fit(X_train, Y_train)\n",
        "Y_pred = random_forest.predict(X_test)\n",
        "random_forest.score(X_train, Y_train)\n",
        "acc_random_forest = round(random_forest.score(X_train, Y_train) * 100, 2)\n",
        "print(f\"Random Forest Training accuracy : {acc_random_forest}\")\n",
        "print(f\"Random Forest Test accuracy: {round(metrics.accuracy_score(Y_test, Y_pred)*100,2)} %\")"
      ],
      "execution_count": null,
      "outputs": [
        {
          "output_type": "stream",
          "text": [
            "Random Forest Training accuracy : 99.95\n",
            "Random Forest Test accuracy: 91.55 %\n"
          ],
          "name": "stdout"
        }
      ]
    },
    {
      "cell_type": "code",
      "metadata": {
        "id": "mRupGz602pO0",
        "colab_type": "code",
        "colab": {
          "base_uri": "https://localhost:8080/",
          "height": 82
        },
        "outputId": "665080d6-9b0b-467e-8fdf-2c16b67b61f6"
      },
      "source": [
        "x = precision_recall_fscore_support(Y_test, Y_pred)\n",
        "for i in x:\n",
        "  print((i[0]+i[1]+i[2]+i[3])/4)"
      ],
      "execution_count": null,
      "outputs": [
        {
          "output_type": "stream",
          "text": [
            "0.9172804619364028\n",
            "0.8964076366731909\n",
            "0.906280225065732\n",
            "213.0\n"
          ],
          "name": "stdout"
        }
      ]
    },
    {
      "cell_type": "code",
      "metadata": {
        "id": "VfJ-Ps46__NK",
        "colab_type": "code",
        "colab": {}
      },
      "source": [
        ""
      ],
      "execution_count": null,
      "outputs": []
    }
  ]
}